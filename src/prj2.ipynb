{
 "cells": [
  {
   "cell_type": "markdown",
   "id": "75c40efd",
   "metadata": {},
   "source": [
    "# Preamble:\n",
    "\n",
    "CS390Z - Introduction to Data Mining - Fall 2021\n",
    "\n",
    "Instructor: Thyago Mota\n",
    "\n",
    "Description: Program 02\n",
    "\n",
    "Author: Brandon Young\n",
    "\n",
    "Description: This program is meant to demonstrate a method of creating classification models to predict the genre of a song baseed on given data."
   ]
  },
  {
   "cell_type": "markdown",
   "id": "c44e6aaf",
   "metadata": {},
   "source": [
    "# Introduction:"
   ]
  },
  {
   "cell_type": "markdown",
   "id": "68d1ea50",
   "metadata": {},
   "source": [
    "In this program, I intend to use the data provided from Kaggle in order to predict a song's genre using three different classification models; specifically, the goal is to use a decision tree, Bayes Classification, and ANN."
   ]
  },
  {
   "cell_type": "markdown",
   "id": "e6592b37",
   "metadata": {},
   "source": [
    "# Dataset:"
   ]
  },
  {
   "cell_type": "markdown",
   "id": "c55a4019",
   "metadata": {},
   "source": [
    "The dataset in this instance is a CSV file that has been collected from Kaggle showing a list of songs and their genre. The CSV file consists of 42,305 songs with different genres and displays multiple attributes quantified in numbers. Among these are danceabiliyt, energy, key, loudness, speechiness, acousticness, instramentalness, liveness, valence, tempo, and duration_ms. There are other bits of information such as the ID, song name, and other unique identifiers."
   ]
  },
  {
   "cell_type": "markdown",
   "id": "7b6d8d77",
   "metadata": {},
   "source": [
    "# Preprocessing:"
   ]
  },
  {
   "cell_type": "code",
   "execution_count": 3,
   "id": "1709e5d1",
   "metadata": {},
   "outputs": [
    {
     "name": "stdout",
     "output_type": "stream",
     "text": [
      "C:/Users/brand/Documents/HW Folder/Data Mining/prg02_songs_classifier/data/genres_v2.csv\n",
      "   danceability  energy  key  loudness  mode  speechiness  acousticness  \\\n",
      "0         0.831   0.814    2    -7.364     1       0.4200        0.0598   \n",
      "1         0.719   0.493    8    -7.230     1       0.0794        0.4010   \n",
      "2         0.850   0.893    5    -4.783     1       0.0623        0.0138   \n",
      "3         0.476   0.781    0    -4.710     1       0.1030        0.0237   \n",
      "4         0.798   0.624    2    -7.668     1       0.2930        0.2170   \n",
      "\n",
      "   instrumentalness  liveness  valence  ...                      id  \\\n",
      "0          0.013400    0.0556   0.3890  ...  2Vc6NJ9PW9gD9q343XFRKx   \n",
      "1          0.000000    0.1180   0.1240  ...  7pgJBLVz5VmnL7uGHmRj6p   \n",
      "2          0.000004    0.3720   0.0391  ...  0vSWgAlfpye0WCGeNmuNhy   \n",
      "3          0.000000    0.1140   0.1750  ...  0VSXnJqQkwuH2ei1nOQ1nu   \n",
      "4          0.000000    0.1660   0.5910  ...  4jCeguq9rMTlbMmPHuO7S3   \n",
      "\n",
      "                                    uri  \\\n",
      "0  spotify:track:2Vc6NJ9PW9gD9q343XFRKx   \n",
      "1  spotify:track:7pgJBLVz5VmnL7uGHmRj6p   \n",
      "2  spotify:track:0vSWgAlfpye0WCGeNmuNhy   \n",
      "3  spotify:track:0VSXnJqQkwuH2ei1nOQ1nu   \n",
      "4  spotify:track:4jCeguq9rMTlbMmPHuO7S3   \n",
      "\n",
      "                                          track_href  \\\n",
      "0  https://api.spotify.com/v1/tracks/2Vc6NJ9PW9gD...   \n",
      "1  https://api.spotify.com/v1/tracks/7pgJBLVz5Vmn...   \n",
      "2  https://api.spotify.com/v1/tracks/0vSWgAlfpye0...   \n",
      "3  https://api.spotify.com/v1/tracks/0VSXnJqQkwuH...   \n",
      "4  https://api.spotify.com/v1/tracks/4jCeguq9rMTl...   \n",
      "\n",
      "                                        analysis_url duration_ms  \\\n",
      "0  https://api.spotify.com/v1/audio-analysis/2Vc6...      124539   \n",
      "1  https://api.spotify.com/v1/audio-analysis/7pgJ...      224427   \n",
      "2  https://api.spotify.com/v1/audio-analysis/0vSW...       98821   \n",
      "3  https://api.spotify.com/v1/audio-analysis/0VSX...      123661   \n",
      "4  https://api.spotify.com/v1/audio-analysis/4jCe...      123298   \n",
      "\n",
      "  time_signature      genre                                      song_name  \\\n",
      "0              4  Dark Trap                            Mercury: Retrograde   \n",
      "1              4  Dark Trap                                      Pathology   \n",
      "2              4  Dark Trap                                       Symbiote   \n",
      "3              3  Dark Trap  ProductOfDrugs (Prod. The Virus and Antidote)   \n",
      "4              4  Dark Trap                                          Venom   \n",
      "\n",
      "  Unnamed: 0 title  \n",
      "0        NaN   NaN  \n",
      "1        NaN   NaN  \n",
      "2        NaN   NaN  \n",
      "3        NaN   NaN  \n",
      "4        NaN   NaN  \n",
      "\n",
      "[5 rows x 22 columns]\n"
     ]
    },
    {
     "name": "stderr",
     "output_type": "stream",
     "text": [
      "c:\\users\\brand\\miniconda3\\lib\\site-packages\\IPython\\core\\interactiveshell.py:3444: DtypeWarning: Columns (19) have mixed types.Specify dtype option on import or set low_memory=False.\n",
      "  exec(code_obj, self.user_global_ns, self.user_ns)\n"
     ]
    }
   ],
   "source": [
    "from bs4 import BeautifulSoup\n",
    "import pandas as pd\n",
    "import csv, os, math, sys, re, random\n",
    "import matplotlib.pyplot as plt\n",
    "from sklearn import tree\n",
    "from sklearn.tree import DecisionTreeClassifier, export_text\n",
    "from sklearn.model_selection import train_test_split\n",
    "from sklearn.metrics import classification_report, confusion_matrix\n",
    "from sklearn.naive_bayes import GaussianNB\n",
    "from sklearn import preprocessing\n",
    "from sklearn.neural_network import MLPClassifier\n",
    "\n",
    "\n",
    "\n",
    "DATA_FOLDER = '../data'\n",
    "CSV_FILE_NAME = 'C:/Users/brand/Documents/HW Folder/Data Mining/prg02_songs_classifier/data/genres_v2.csv'\n",
    "\n",
    "csv_reader = csv.reader(CSV_FILE_NAME)\n",
    "df = pd.read_table(CSV_FILE_NAME, delimiter = \",\")\n",
    "random.seed(0)\n",
    "\n",
    "\n",
    "print(CSV_FILE_NAME)\n",
    "print(df.head())"
   ]
  },
  {
   "cell_type": "markdown",
   "id": "3b7d7e75",
   "metadata": {},
   "source": [
    "This section is used to import the resources needed to read the CSV files as well as prepare for the use of the decision tree and other functions."
   ]
  },
  {
   "cell_type": "code",
   "execution_count": 5,
   "id": "36eedfc2",
   "metadata": {},
   "outputs": [],
   "source": [
    "dataset = pd.read_csv(CSV_FILE_NAME, low_memory=False)\n",
    "dataset.shape\n",
    "# This should show the shape of the rows and columns\n",
    "dataset.head()\n",
    "\n",
    "X = dataset.drop(['Unnamed: 0', 'type', 'id', 'uri', 'track_href', 'analysis_url', 'song_name', 'title', 'genre'], axis=1)\n",
    "\n",
    "#Dropping several columns that aren't useful here\n",
    "\n",
    "y = dataset['genre']"
   ]
  },
  {
   "cell_type": "markdown",
   "id": "215eb491",
   "metadata": {},
   "source": [
    "For the dataset, what we aim to do is drop all of the columns that don't allow us to predict any sort of data. This includes the empty columns and columns such as song names and so on.\n",
    "\n",
    "We intentionally set the y value to be genre as this is what we want to predict in this case."
   ]
  },
  {
   "cell_type": "markdown",
   "id": "5ad92777",
   "metadata": {},
   "source": [
    "# Summary Statistics:"
   ]
  },
  {
   "cell_type": "code",
   "execution_count": 6,
   "id": "0a504f76",
   "metadata": {},
   "outputs": [
    {
     "name": "stdout",
     "output_type": "stream",
     "text": [
      "                danceability                                               \\\n",
      "                       count      mean       std     min      25%     50%   \n",
      "genre                                                                       \n",
      "Dark Trap             4578.0  0.618834  0.161002  0.0979  0.51525  0.6245   \n",
      "Emo                   1680.0  0.493699  0.126014  0.1110  0.41500  0.4910   \n",
      "Hiphop                3028.0  0.698982  0.142183  0.1970  0.60575  0.7170   \n",
      "Pop                    461.0  0.676807  0.119175  0.2090  0.60200  0.6870   \n",
      "Rap                   1848.0  0.742877  0.127670  0.2410  0.67100  0.7570   \n",
      "RnB                   2099.0  0.674206  0.140207  0.1910  0.58800  0.6880   \n",
      "Trap Metal            1956.0  0.647564  0.169564  0.0651  0.54000  0.6700   \n",
      "Underground Rap       5875.0  0.744658  0.128180  0.2410  0.67200  0.7660   \n",
      "dnb                   2966.0  0.520944  0.106605  0.1380  0.44900  0.5170   \n",
      "hardstyle             2936.0  0.478027  0.099230  0.0891  0.42500  0.4890   \n",
      "psytrance             2961.0  0.617462  0.086189  0.2900  0.56700  0.6210   \n",
      "techhouse             2975.0  0.786794  0.073436  0.3680  0.75600  0.8020   \n",
      "techno                2956.0  0.715742  0.088053  0.2540  0.66175  0.7290   \n",
      "trance                2999.0  0.507724  0.102201  0.1210  0.44650  0.5060   \n",
      "trap                  2987.0  0.593180  0.128669  0.1500  0.51150  0.5980   \n",
      "\n",
      "                               \n",
      "                   75%    max  \n",
      "genre                          \n",
      "Dark Trap        0.739  0.985  \n",
      "Emo              0.572  0.926  \n",
      "Hiphop           0.805  0.988  \n",
      "Pop              0.757  0.935  \n",
      "Rap              0.837  0.981  \n",
      "RnB              0.771  0.978  \n",
      "Trap Metal       0.777  0.985  \n",
      "Underground Rap  0.839  0.985  \n",
      "dnb              0.592  0.855  \n",
      "hardstyle        0.540  0.774  \n",
      "psytrance        0.672  0.925  \n",
      "techhouse        0.820  0.988  \n",
      "techno           0.784  0.978  \n",
      "trance           0.568  0.887  \n",
      "trap             0.680  0.935  \n",
      "                 energy                                                 \\\n",
      "                  count      mean       std       min      25%     50%   \n",
      "genre                                                                    \n",
      "Dark Trap        4578.0  0.646851  0.180810  0.000243  0.52000  0.6500   \n",
      "Emo              1680.0  0.761175  0.220404  0.014800  0.64175  0.8545   \n",
      "Hiphop           3028.0  0.654418  0.162416  0.027900  0.55200  0.6650   \n",
      "Pop               461.0  0.697638  0.155379  0.173000  0.61100  0.7190   \n",
      "Rap              1848.0  0.620083  0.137444  0.144000  0.52900  0.6220   \n",
      "RnB              2099.0  0.598884  0.164788  0.060900  0.48600  0.6030   \n",
      "Trap Metal       1956.0  0.749157  0.174147  0.000243  0.62400  0.7790   \n",
      "Underground Rap  5875.0  0.635776  0.155994  0.134000  0.52500  0.6340   \n",
      "dnb              2966.0  0.873433  0.097925  0.349000  0.82400  0.9010   \n",
      "hardstyle        2936.0  0.896238  0.082729  0.464000  0.86175  0.9190   \n",
      "psytrance        2961.0  0.902392  0.093983  0.388000  0.87100  0.9340   \n",
      "techhouse        2975.0  0.834481  0.131920  0.231000  0.75400  0.8730   \n",
      "techno           2956.0  0.795714  0.141080  0.188000  0.70875  0.8225   \n",
      "trance           2999.0  0.892435  0.107369  0.282000  0.84200  0.9300   \n",
      "trap             2987.0  0.906060  0.098066  0.205000  0.87300  0.9400   \n",
      "\n",
      "                                 \n",
      "                     75%    max  \n",
      "genre                            \n",
      "Dark Trap        0.79175  0.998  \n",
      "Emo              0.92825  0.995  \n",
      "Hiphop           0.77600  0.978  \n",
      "Pop              0.80500  0.977  \n",
      "Rap              0.71700  0.980  \n",
      "RnB              0.71800  0.974  \n",
      "Trap Metal       0.89600  0.999  \n",
      "Underground Rap  0.74600  0.997  \n",
      "dnb              0.94500  0.999  \n",
      "hardstyle        0.95600  0.999  \n",
      "psytrance        0.96600  0.999  \n",
      "techhouse        0.93800  0.999  \n",
      "techno           0.90900  1.000  \n",
      "trance           0.97400  1.000  \n",
      "trap             0.97300  1.000  \n"
     ]
    },
    {
     "data": {
      "text/plain": [
       "<AxesSubplot:ylabel='Frequency'>"
      ]
     },
     "execution_count": 6,
     "metadata": {},
     "output_type": "execute_result"
    },
    {
     "data": {
      "image/png": "[encoded data removed]",
      "text/plain": [
       "<Figure size 432x288 with 1 Axes>"
      ]
     },
     "metadata": {
      "needs_background": "light"
     },
     "output_type": "display_data"
    }
   ],
   "source": [
    "print(dataset[['danceability','genre']].groupby('genre').describe())\n",
    "print(dataset[['energy','genre']].groupby('genre').describe())\n",
    "#print(summary)\n",
    "#print(df['genre'].unique())\n",
    "\n",
    "danceTest = df[['danceability','genre']].groupby('genre')\n",
    "#print(danceTest) this fookin works\n",
    "#danceTest.plot(y='danceability', x='genre',kind='box')\n",
    "#danceTest.plot(x='genre', y='danceability', kind='hist')\n",
    "dataset.plot(x='genre', y='danceability',kind='hist')\n",
    "#danceTest.plot(x='genre',y='danceability',kind='box')\n",
    "#plt.hist()"
   ]
  },
  {
   "cell_type": "markdown",
   "id": "a2ea6320",
   "metadata": {},
   "source": [
    "# Classification Models:"
   ]
  },
  {
   "cell_type": "markdown",
   "id": "fd9199ee",
   "metadata": {},
   "source": [
    "Decision Tree Inference:"
   ]
  },
  {
   "cell_type": "code",
   "execution_count": 7,
   "id": "81a98293",
   "metadata": {},
   "outputs": [
    {
     "name": "stdout",
     "output_type": "stream",
     "text": [
      "[[370  25  42   8  39  26 110 178  11  19   5  16  15  39  39]\n",
      " [ 17 169  16   8   4  25  11  15   8  11   0   1   0   4   8]\n",
      " [ 68  19 193  14  49  87  19 154   6   3   0   3   0   2   4]\n",
      " [  7  22   7   3   2  19   3   8   0   1   0   8   0   3   1]\n",
      " [ 32   5  46   5 143  30  14  92   0   0   0   1   1   0   2]\n",
      " [ 43  31 102  21  36 129  11  66   3   1   0   1   0   3   5]\n",
      " [130  11  12   3   8   9  78 116   3   7   0   2   0   6   9]\n",
      " [262  17 210  16 124  67 148 328   2   6   0   6   1   6   4]\n",
      " [ 10   6   3   1   1   2   0   3 547   0   0   0   0   0   0]\n",
      " [ 14   8   4   0   0   1   4   4   1 486   5   0   0   0  49]\n",
      " [  6   0   0   1   0   1   1   1   0   9 516   0  16  44   5]\n",
      " [ 17   5   0   0   1   3   4   5   0   0   1 492  59   8   1]\n",
      " [  6   0   0   0   0   0   1   2   0   0  26  49 452  32   1]\n",
      " [ 40   3   3   0   1   3   6   0   0   3  30   7  25 460   7]\n",
      " [ 28  16  11   2   5   5  18   8   1  50   3   0   0   5 449]]\n",
      "                 precision    recall  f1-score   support\n",
      "\n",
      "      Dark Trap       0.35      0.39      0.37       942\n",
      "            Emo       0.50      0.57      0.53       297\n",
      "         Hiphop       0.30      0.31      0.30       621\n",
      "            Pop       0.04      0.04      0.04        84\n",
      "            Rap       0.35      0.39      0.36       371\n",
      "            RnB       0.32      0.29      0.30       452\n",
      "     Trap Metal       0.18      0.20      0.19       394\n",
      "Underground Rap       0.33      0.27      0.30      1197\n",
      "            dnb       0.94      0.95      0.95       573\n",
      "      hardstyle       0.82      0.84      0.83       576\n",
      "      psytrance       0.88      0.86      0.87       600\n",
      "      techhouse       0.84      0.83      0.83       596\n",
      "         techno       0.79      0.79      0.79       569\n",
      "         trance       0.75      0.78      0.77       588\n",
      "           trap       0.77      0.75      0.76       601\n",
      "\n",
      "       accuracy                           0.57      8461\n",
      "      macro avg       0.54      0.55      0.55      8461\n",
      "   weighted avg       0.57      0.57      0.57      8461\n",
      "\n",
      "['Hiphop' 'trap' 'techhouse' ... 'hardstyle' 'RnB' 'Hiphop']\n"
     ]
    }
   ],
   "source": [
    "X_train, X_test, y_train, y_test = train_test_split(X,y, test_size = 0.20, random_state=0)\n",
    "\n",
    "classifier = DecisionTreeClassifier()\n",
    "classifier.fit(X_train, y_train)\n",
    "\n",
    "y_predict = classifier.predict(X_test)\n",
    "\n",
    "print(confusion_matrix(y_test, y_predict))\n",
    "print(classification_report(y_test, y_predict))\n",
    "print(y_predict)"
   ]
  },
  {
   "cell_type": "markdown",
   "id": "eb027ebe",
   "metadata": {},
   "source": [
    "Bayes Classification:"
   ]
  },
  {
   "cell_type": "code",
   "execution_count": 13,
   "id": "aaa7ccf0",
   "metadata": {},
   "outputs": [
    {
     "ename": "IndentationError",
     "evalue": "unexpected indent (Temp/ipykernel_26364/2611342337.py, line 5)",
     "output_type": "error",
     "traceback": [
      "\u001b[1;36m  File \u001b[1;32m\"C:\\Users\\brand\\AppData\\Local\\Temp/ipykernel_26364/2611342337.py\"\u001b[1;36m, line \u001b[1;32m5\u001b[0m\n\u001b[1;33m    for i, row dataset.iterrows():\u001b[0m\n\u001b[1;37m    ^\u001b[0m\n\u001b[1;31mIndentationError\u001b[0m\u001b[1;31m:\u001b[0m unexpected indent\n"
     ]
    }
   ],
   "source": [
    "rows_train = random.sample(range(len(dataset)),k=int(len(dataset)*.2))\n",
    "\n",
    "df_train = pd.DataFrame(columns = dataset.columns)\n",
    "df_test = pd.DataFrame(columns = dataset.columns)\n",
    "for i, row dataset.iterrows():\n",
    "    df_train = dftrain.append(row)\n",
    "else:\n",
    "    df_test = df_test.append(row)"
   ]
  },
  {
   "cell_type": "markdown",
   "id": "887f84b1",
   "metadata": {},
   "source": [
    "ANN:"
   ]
  },
  {
   "cell_type": "code",
   "execution_count": 24,
   "id": "f24e5b57",
   "metadata": {},
   "outputs": [
    {
     "name": "stdout",
     "output_type": "stream",
     "text": [
      "Accuracy:\n",
      "0.9568608911476185\n"
     ]
    }
   ],
   "source": [
    "df_train, df_test = train_test_split(X, test_size=0.2, random_state=0)\n",
    "\n",
    "# X is actually the filtered dataset\n",
    "\n",
    "min_max_scaler = preprocessing.MinMaxScaler()\n",
    "\n",
    "X_train = min_max_scaler.fit_transform(df_train.iloc[:,:-1].values)\n",
    "X_test = min_max_scaler.fit_transform(df_test.iloc[:,:-1].values)\n",
    "\n",
    "Y_train = df_train.iloc[:,-1].values\n",
    "Y_test = df_test.iloc[:,-1].values\n",
    "\n",
    "classify = MLPClassifier(hidden_layer_sizes=(2,4), max_iter=5000, random_state=0)\n",
    "\n",
    "classify.fit(X_train,Y_train)\n",
    "\n",
    "\n",
    "print(\"Accuracy:\")\n",
    "print(clf.score(X_test,Y_test))\n"
   ]
  },
  {
   "cell_type": "code",
   "execution_count": null,
   "id": "d0ad7ef5",
   "metadata": {},
   "outputs": [],
   "source": []
  }
 ],
 "metadata": {
  "kernelspec": {
   "display_name": "Python 3 (ipykernel)",
   "language": "python",
   "name": "python3"
  },
  "language_info": {
   "codemirror_mode": {
    "name": "ipython",
    "version": 3
   },
   "file_extension": ".py",
   "mimetype": "text/x-python",
   "name": "python",
   "nbconvert_exporter": "python",
   "pygments_lexer": "ipython3",
   "version": "3.9.5"
  }
 },
 "nbformat": 4,
 "nbformat_minor": 5
}
