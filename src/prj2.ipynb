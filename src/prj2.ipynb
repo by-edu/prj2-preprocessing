{
 "cells": [
  {
   "cell_type": "markdown",
   "id": "75c40efd",
   "metadata": {},
   "source": [
    "# Preamble:\n",
    "\n",
    "CS390Z - Introduction to Data Mining - Fall 2021\n",
    "\n",
    "Instructor: Thyago Mota\n",
    "\n",
    "Description: Program 02\n",
    "\n",
    "Author: Brandon Young\n",
    "\n",
    "Description: This program is meant to demonstrate a method of creating classification models to predict the genre of a song baseed on given data."
   ]
  },
  {
   "cell_type": "markdown",
   "id": "c44e6aaf",
   "metadata": {},
   "source": [
    "# Introduction:"
   ]
  },
  {
   "cell_type": "markdown",
   "id": "68d1ea50",
   "metadata": {},
   "source": [
    "In this program, I intend to use the data provided from Kaggle in order to predict a song's genre using three different classification models; specifically, the goal is to use a decision tree, Bayes Classification, and ANN."
   ]
  },
  {
   "cell_type": "markdown",
   "id": "e6592b37",
   "metadata": {},
   "source": [
    "# Dataset:"
   ]
  },
  {
   "cell_type": "markdown",
   "id": "c55a4019",
   "metadata": {},
   "source": [
    "The dataset in this instance is a CSV file that has been collected from Kaggle showing a list of songs and their genre. The CSV file consists of 42,305 songs with different genres and displays multiple attributes quantified in numbers. Among these are danceabiliyt, energy, key, loudness, speechiness, acousticness, instramentalness, liveness, valence, tempo, and duration_ms. There are other bits of information such as the ID, song name, and other unique identifiers."
   ]
  },
  {
   "cell_type": "markdown",
   "id": "7b6d8d77",
   "metadata": {},
   "source": [
    "# Preprocessing:"
   ]
  },
  {
   "cell_type": "code",
   "execution_count": 19,
   "id": "1709e5d1",
   "metadata": {},
   "outputs": [
    {
     "name": "stdout",
     "output_type": "stream",
     "text": [
      "C:/Users/brand/Documents/HW Folder/Data Mining/prg02_songs_classifier/data/genres_v2.csv\n",
      "   danceability  energy  key  loudness  mode  speechiness  acousticness  \\\n",
      "0         0.831   0.814    2    -7.364     1       0.4200        0.0598   \n",
      "1         0.719   0.493    8    -7.230     1       0.0794        0.4010   \n",
      "2         0.850   0.893    5    -4.783     1       0.0623        0.0138   \n",
      "3         0.476   0.781    0    -4.710     1       0.1030        0.0237   \n",
      "4         0.798   0.624    2    -7.668     1       0.2930        0.2170   \n",
      "\n",
      "   instrumentalness  liveness  valence  ...                      id  \\\n",
      "0          0.013400    0.0556   0.3890  ...  2Vc6NJ9PW9gD9q343XFRKx   \n",
      "1          0.000000    0.1180   0.1240  ...  7pgJBLVz5VmnL7uGHmRj6p   \n",
      "2          0.000004    0.3720   0.0391  ...  0vSWgAlfpye0WCGeNmuNhy   \n",
      "3          0.000000    0.1140   0.1750  ...  0VSXnJqQkwuH2ei1nOQ1nu   \n",
      "4          0.000000    0.1660   0.5910  ...  4jCeguq9rMTlbMmPHuO7S3   \n",
      "\n",
      "                                    uri  \\\n",
      "0  spotify:track:2Vc6NJ9PW9gD9q343XFRKx   \n",
      "1  spotify:track:7pgJBLVz5VmnL7uGHmRj6p   \n",
      "2  spotify:track:0vSWgAlfpye0WCGeNmuNhy   \n",
      "3  spotify:track:0VSXnJqQkwuH2ei1nOQ1nu   \n",
      "4  spotify:track:4jCeguq9rMTlbMmPHuO7S3   \n",
      "\n",
      "                                          track_href  \\\n",
      "0  https://api.spotify.com/v1/tracks/2Vc6NJ9PW9gD...   \n",
      "1  https://api.spotify.com/v1/tracks/7pgJBLVz5Vmn...   \n",
      "2  https://api.spotify.com/v1/tracks/0vSWgAlfpye0...   \n",
      "3  https://api.spotify.com/v1/tracks/0VSXnJqQkwuH...   \n",
      "4  https://api.spotify.com/v1/tracks/4jCeguq9rMTl...   \n",
      "\n",
      "                                        analysis_url duration_ms  \\\n",
      "0  https://api.spotify.com/v1/audio-analysis/2Vc6...      124539   \n",
      "1  https://api.spotify.com/v1/audio-analysis/7pgJ...      224427   \n",
      "2  https://api.spotify.com/v1/audio-analysis/0vSW...       98821   \n",
      "3  https://api.spotify.com/v1/audio-analysis/0VSX...      123661   \n",
      "4  https://api.spotify.com/v1/audio-analysis/4jCe...      123298   \n",
      "\n",
      "  time_signature      genre                                      song_name  \\\n",
      "0              4  Dark Trap                            Mercury: Retrograde   \n",
      "1              4  Dark Trap                                      Pathology   \n",
      "2              4  Dark Trap                                       Symbiote   \n",
      "3              3  Dark Trap  ProductOfDrugs (Prod. The Virus and Antidote)   \n",
      "4              4  Dark Trap                                          Venom   \n",
      "\n",
      "  Unnamed: 0 title  \n",
      "0        NaN   NaN  \n",
      "1        NaN   NaN  \n",
      "2        NaN   NaN  \n",
      "3        NaN   NaN  \n",
      "4        NaN   NaN  \n",
      "\n",
      "[5 rows x 22 columns]\n"
     ]
    },
    {
     "name": "stderr",
     "output_type": "stream",
     "text": [
      "c:\\users\\brand\\miniconda3\\lib\\site-packages\\IPython\\core\\interactiveshell.py:3444: DtypeWarning: Columns (19) have mixed types.Specify dtype option on import or set low_memory=False.\n",
      "  exec(code_obj, self.user_global_ns, self.user_ns)\n"
     ]
    }
   ],
   "source": [
    "from bs4 import BeautifulSoup\n",
    "import pandas as pd\n",
    "import csv, os, math, sys, re, random\n",
    "import matplotlib.pyplot as plt\n",
    "from sklearn import tree\n",
    "from sklearn.tree import DecisionTreeClassifier, export_text\n",
    "from sklearn.model_selection import train_test_split\n",
    "from sklearn.metrics import classification_report, confusion_matrix\n",
    "from sklearn.naive_bayes import GaussianNB\n",
    "\n",
    "\n",
    "DATA_FOLDER = '../data'\n",
    "CSV_FILE_NAME = 'C:/Users/brand/Documents/HW Folder/Data Mining/prg02_songs_classifier/data/genres_v2.csv'\n",
    "\n",
    "csv_reader = csv.reader(CSV_FILE_NAME)\n",
    "df = pd.read_table(CSV_FILE_NAME, delimiter = \",\")\n",
    "random.seed(0)\n",
    "\n",
    "\n",
    "print(CSV_FILE_NAME)\n",
    "print(df.head())"
   ]
  },
  {
   "cell_type": "markdown",
   "id": "3b7d7e75",
   "metadata": {},
   "source": [
    "This section is used to import the resources needed to read the CSV files as well as prepare for the use of the decision tree and other functions."
   ]
  },
  {
   "cell_type": "code",
   "execution_count": 20,
   "id": "36eedfc2",
   "metadata": {},
   "outputs": [],
   "source": [
    "dataset = pd.read_csv(CSV_FILE_NAME, low_memory=False)\n",
    "dataset.shape\n",
    "# This should show the shape of the rows and columns\n",
    "dataset.head()\n",
    "\n",
    "X = dataset.drop(['Unnamed: 0', 'type', 'id', 'uri', 'track_href', 'analysis_url', 'song_name', 'title', 'genre'], axis=1)\n",
    "\n",
    "#Dropping several columns that aren't useful here\n",
    "\n",
    "y = dataset['genre']"
   ]
  },
  {
   "cell_type": "markdown",
   "id": "215eb491",
   "metadata": {},
   "source": [
    "For the dataset, what we aim to do is drop all of the columns that don't allow us to predict any sort of data. This includes the empty columns and columns such as song names and so on.\n",
    "\n",
    "We intentionally set the y value to be genre as this is what we want to predict in this case."
   ]
  },
  {
   "cell_type": "markdown",
   "id": "5ad92777",
   "metadata": {},
   "source": [
    "# Summary Statistics:"
   ]
  },
  {
   "cell_type": "code",
   "execution_count": 11,
   "id": "0a504f76",
   "metadata": {},
   "outputs": [
    {
     "data": {
      "text/plain": [
       "<function matplotlib.pyplot.show(close=None, block=None)>"
      ]
     },
     "execution_count": 11,
     "metadata": {},
     "output_type": "execute_result"
    },
    {
     "data": {
      "image/png": "[encoded data removed]",
      "text/plain": [
       "<Figure size 432x288 with 1 Axes>"
      ]
     },
     "metadata": {
      "needs_background": "light"
     },
     "output_type": "display_data"
    }
   ],
   "source": [
    "dataset.\n",
    "plt.show"
   ]
  },
  {
   "cell_type": "markdown",
   "id": "a2ea6320",
   "metadata": {},
   "source": [
    "# Classification Models:"
   ]
  },
  {
   "cell_type": "markdown",
   "id": "fd9199ee",
   "metadata": {},
   "source": [
    "Decision Tree Inference:"
   ]
  },
  {
   "cell_type": "code",
   "execution_count": 21,
   "id": "81a98293",
   "metadata": {},
   "outputs": [
    {
     "name": "stdout",
     "output_type": "stream",
     "text": [
      "[[350  23  63   4  37  29 115 148   9  12  14  16  10  46  30]\n",
      " [ 16 161  18  12   8  28  13  18   7   9   1   1   0  14   6]\n",
      " [ 59  36 172  11  71  90  18 135   8   1   0   2   0   4  11]\n",
      " [  7  21  13  10   6  13   5   5   1   0   0   3   0   0   1]\n",
      " [ 29   2  54   3 148  23  12  96   0   0   0   0   0   3   4]\n",
      " [ 28  31  93  13  37 122  11  52   1   0   0   2   1   2   5]\n",
      " [105  16  15   1  13   7  73 115   2   7   1   2   0   8   9]\n",
      " [266  13 198  18 149  77 144 326   3   2   0   2   3   3  11]\n",
      " [ 11   7   2   0   1   3   1   2 554   1   0   0   0   0   1]\n",
      " [ 13  14   2   0   2   2   4   3   0 515   7   0   0   1  35]\n",
      " [  5   1   0   0   0   1   2   0   0   6 516   0  31  24   6]\n",
      " [ 10   3   4   5   3   4   2   2   0   0   0 525  60   7   0]\n",
      " [ 16   1   0   0   0   1   0   1   0   0  18  50 487  27   0]\n",
      " [ 40   3   3   3   2   3   5   3   1   2  34   7  41 429   5]\n",
      " [ 33   3   6   0   3   4  13   4   0  46   5   2   0   5 475]]\n",
      "                 precision    recall  f1-score   support\n",
      "\n",
      "      Dark Trap       0.35      0.39      0.37       906\n",
      "            Emo       0.48      0.52      0.50       312\n",
      "         Hiphop       0.27      0.28      0.27       618\n",
      "            Pop       0.12      0.12      0.12        85\n",
      "            Rap       0.31      0.40      0.35       374\n",
      "            RnB       0.30      0.31      0.30       398\n",
      "     Trap Metal       0.17      0.20      0.18       374\n",
      "Underground Rap       0.36      0.27      0.31      1215\n",
      "            dnb       0.95      0.95      0.95       583\n",
      "      hardstyle       0.86      0.86      0.86       598\n",
      "      psytrance       0.87      0.87      0.87       592\n",
      "      techhouse       0.86      0.84      0.85       625\n",
      "         techno       0.77      0.81      0.79       601\n",
      "         trance       0.75      0.74      0.74       581\n",
      "           trap       0.79      0.79      0.79       599\n",
      "\n",
      "       accuracy                           0.57      8461\n",
      "      macro avg       0.55      0.56      0.55      8461\n",
      "   weighted avg       0.58      0.57      0.57      8461\n",
      "\n",
      "['Pop' 'trance' 'Underground Rap' ... 'Underground Rap' 'Dark Trap' 'RnB']\n"
     ]
    }
   ],
   "source": [
    "X_train, X_test, y_train, y_test = train_test_split(X,y, test_size = 0.20)\n",
    "\n",
    "classifier = DecisionTreeClassifier()\n",
    "classifier.fit(X_train, y_train)\n",
    "\n",
    "y_predict = classifier.predict(X_test)\n",
    "\n",
    "print(confusion_matrix(y_test, y_predict))\n",
    "print(classification_report(y_test, y_predict))\n",
    "print(y_predict)"
   ]
  },
  {
   "cell_type": "markdown",
   "id": "eb027ebe",
   "metadata": {},
   "source": [
    "Bayes Classification:"
   ]
  },
  {
   "cell_type": "code",
   "execution_count": 13,
   "id": "aaa7ccf0",
   "metadata": {},
   "outputs": [
    {
     "ename": "IndentationError",
     "evalue": "unexpected indent (Temp/ipykernel_26364/2611342337.py, line 5)",
     "output_type": "error",
     "traceback": [
      "\u001b[1;36m  File \u001b[1;32m\"C:\\Users\\brand\\AppData\\Local\\Temp/ipykernel_26364/2611342337.py\"\u001b[1;36m, line \u001b[1;32m5\u001b[0m\n\u001b[1;33m    for i, row dataset.iterrows():\u001b[0m\n\u001b[1;37m    ^\u001b[0m\n\u001b[1;31mIndentationError\u001b[0m\u001b[1;31m:\u001b[0m unexpected indent\n"
     ]
    }
   ],
   "source": [
    "rows_train = random.sample(range(len(dataset)),k=int(len(dataset)*.2))\n",
    "\n",
    "df_train = pd.DataFrame(columns = dataset.columns)\n",
    "df_test = pd.DataFrame(columns = dataset.columns)\n",
    "for i, row dataset.iterrows():\n",
    "    df_train = dftrain.append(row)\n",
    "else:\n",
    "    df_test = df_test.append(row)"
   ]
  },
  {
   "cell_type": "markdown",
   "id": "887f84b1",
   "metadata": {},
   "source": [
    "ANN:"
   ]
  },
  {
   "cell_type": "code",
   "execution_count": null,
   "id": "f24e5b57",
   "metadata": {},
   "outputs": [],
   "source": []
  }
 ],
 "metadata": {
  "kernelspec": {
   "display_name": "Python 3 (ipykernel)",
   "language": "python",
   "name": "python3"
  },
  "language_info": {
   "codemirror_mode": {
    "name": "ipython",
    "version": 3
   },
   "file_extension": ".py",
   "mimetype": "text/x-python",
   "name": "python",
   "nbconvert_exporter": "python",
   "pygments_lexer": "ipython3",
   "version": "3.9.5"
  }
 },
 "nbformat": 4,
 "nbformat_minor": 5
}
