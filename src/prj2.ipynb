{
 "cells": [
  {
   "cell_type": "markdown",
   "id": "75c40efd",
   "metadata": {},
   "source": [
    "# Preamble:"
   ]
  },
  {
   "cell_type": "markdown",
   "id": "84988cc4",
   "metadata": {},
   "source": [
    "The goal of this program is to develop some form of classification models in order to predict the genre of a song based on measured audio attributes."
   ]
  },
  {
   "cell_type": "markdown",
   "id": "c44e6aaf",
   "metadata": {},
   "source": [
    "# Introduction:"
   ]
  },
  {
   "cell_type": "markdown",
   "id": "68d1ea50",
   "metadata": {},
   "source": [
    "In this program, I intend to use the data provided from Kaggle in order to predict a song's genre. In doing so, I will have to make use of tools such as decision trees, bayes classification and ANN in order to properly predict a song's genre based on the given data. I also intend to display the information in 4 different classification models."
   ]
  },
  {
   "cell_type": "markdown",
   "id": "e6592b37",
   "metadata": {},
   "source": [
    "# Dataset:"
   ]
  },
  {
   "cell_type": "markdown",
   "id": "c55a4019",
   "metadata": {},
   "source": [
    "The dataset in this instance is a CSV file that has been collected from Kaggle showing a list of songs and their genre."
   ]
  },
  {
   "cell_type": "markdown",
   "id": "7b6d8d77",
   "metadata": {},
   "source": [
    "# Preprocessing:"
   ]
  },
  {
   "cell_type": "code",
   "execution_count": 26,
   "id": "1709e5d1",
   "metadata": {},
   "outputs": [
    {
     "name": "stdout",
     "output_type": "stream",
     "text": [
      "C:/Users/brand/Documents/HW Folder/Data Mining/prg02_songs_classifier/data/genres_v2.csv\n",
      "   danceability  energy  key  loudness  mode  speechiness  acousticness  \\\n",
      "0         0.831   0.814    2    -7.364     1       0.4200        0.0598   \n",
      "1         0.719   0.493    8    -7.230     1       0.0794        0.4010   \n",
      "2         0.850   0.893    5    -4.783     1       0.0623        0.0138   \n",
      "3         0.476   0.781    0    -4.710     1       0.1030        0.0237   \n",
      "4         0.798   0.624    2    -7.668     1       0.2930        0.2170   \n",
      "\n",
      "   instrumentalness  liveness  valence  ...                      id  \\\n",
      "0          0.013400    0.0556   0.3890  ...  2Vc6NJ9PW9gD9q343XFRKx   \n",
      "1          0.000000    0.1180   0.1240  ...  7pgJBLVz5VmnL7uGHmRj6p   \n",
      "2          0.000004    0.3720   0.0391  ...  0vSWgAlfpye0WCGeNmuNhy   \n",
      "3          0.000000    0.1140   0.1750  ...  0VSXnJqQkwuH2ei1nOQ1nu   \n",
      "4          0.000000    0.1660   0.5910  ...  4jCeguq9rMTlbMmPHuO7S3   \n",
      "\n",
      "                                    uri  \\\n",
      "0  spotify:track:2Vc6NJ9PW9gD9q343XFRKx   \n",
      "1  spotify:track:7pgJBLVz5VmnL7uGHmRj6p   \n",
      "2  spotify:track:0vSWgAlfpye0WCGeNmuNhy   \n",
      "3  spotify:track:0VSXnJqQkwuH2ei1nOQ1nu   \n",
      "4  spotify:track:4jCeguq9rMTlbMmPHuO7S3   \n",
      "\n",
      "                                          track_href  \\\n",
      "0  https://api.spotify.com/v1/tracks/2Vc6NJ9PW9gD...   \n",
      "1  https://api.spotify.com/v1/tracks/7pgJBLVz5Vmn...   \n",
      "2  https://api.spotify.com/v1/tracks/0vSWgAlfpye0...   \n",
      "3  https://api.spotify.com/v1/tracks/0VSXnJqQkwuH...   \n",
      "4  https://api.spotify.com/v1/tracks/4jCeguq9rMTl...   \n",
      "\n",
      "                                        analysis_url duration_ms  \\\n",
      "0  https://api.spotify.com/v1/audio-analysis/2Vc6...      124539   \n",
      "1  https://api.spotify.com/v1/audio-analysis/7pgJ...      224427   \n",
      "2  https://api.spotify.com/v1/audio-analysis/0vSW...       98821   \n",
      "3  https://api.spotify.com/v1/audio-analysis/0VSX...      123661   \n",
      "4  https://api.spotify.com/v1/audio-analysis/4jCe...      123298   \n",
      "\n",
      "  time_signature      genre                                      song_name  \\\n",
      "0              4  Dark Trap                            Mercury: Retrograde   \n",
      "1              4  Dark Trap                                      Pathology   \n",
      "2              4  Dark Trap                                       Symbiote   \n",
      "3              3  Dark Trap  ProductOfDrugs (Prod. The Virus and Antidote)   \n",
      "4              4  Dark Trap                                          Venom   \n",
      "\n",
      "  Unnamed: 0 title  \n",
      "0        NaN   NaN  \n",
      "1        NaN   NaN  \n",
      "2        NaN   NaN  \n",
      "3        NaN   NaN  \n",
      "4        NaN   NaN  \n",
      "\n",
      "[5 rows x 22 columns]\n"
     ]
    },
    {
     "name": "stderr",
     "output_type": "stream",
     "text": [
      "c:\\users\\brand\\miniconda3\\lib\\site-packages\\IPython\\core\\interactiveshell.py:3444: DtypeWarning: Columns (19) have mixed types.Specify dtype option on import or set low_memory=False.\n",
      "  exec(code_obj, self.user_global_ns, self.user_ns)\n"
     ]
    }
   ],
   "source": [
    "from bs4 import BeautifulSoup\n",
    "import pandas as pd\n",
    "import csv, os, math, sys, re\n",
    "import matplotlib.pyplot as plt\n",
    "from sklearn import tree\n",
    "from sklearn.tree import DecisionTreeClassifier, export_text\n",
    "from sklearn.model_selection import train_test_split\n",
    "from sklearn.metrics import classification_report, confusion_matrix\n",
    "\n",
    "\n",
    "DATA_FOLDER = '../data'\n",
    "CSV_FILE_NAME = 'C:/Users/brand/Documents/HW Folder/Data Mining/prg02_songs_classifier/data/genres_v2.csv'\n",
    "\n",
    "csv_reader = csv.reader(CSV_FILE_NAME)\n",
    "df = pd.read_table(CSV_FILE_NAME, delimiter = \",\")\n",
    "\n",
    "\n",
    "print(CSV_FILE_NAME)\n",
    "\n",
    "# print(df.head())\n",
    "\n",
    "print(df.head())\n"
   ]
  },
  {
   "cell_type": "markdown",
   "id": "5ad92777",
   "metadata": {},
   "source": [
    "# Summary Statistics:"
   ]
  },
  {
   "cell_type": "markdown",
   "id": "3d9dd19b",
   "metadata": {},
   "source": [
    "Decision Tree:"
   ]
  },
  {
   "cell_type": "code",
   "execution_count": 31,
   "id": "0a504f76",
   "metadata": {},
   "outputs": [
    {
     "name": "stdout",
     "output_type": "stream",
     "text": [
      "[[359  18  65  12  36  27 109 160   6  25  11   5  16  44  30]\n",
      " [ 24 172  22   9   2  24   7  17   7   9   2   5   0   5   9]\n",
      " [ 62  16 183  10  45  93  15 144   3   3   1   3   2   0   2]\n",
      " [  4  17  11  15   9  15   6   9   1   0   0   1   0   3   1]\n",
      " [ 40   7  45   2 144  26  13  87   0   2   1   1   1   0   2]\n",
      " [ 40  28 103  13  26 116  15  52   2   1   0   5   1   1   5]\n",
      " [143  16  16   1  15   5  73 109   1   9   0   2   0   3  12]\n",
      " [264  27 221  13 108  76 122 315   3   4   0   6   0   0  10]\n",
      " [ 11   8   4   3   0   2   0   6 565   0   0   0   0   1   1]\n",
      " [ 21  12   0   2   0   0   4   3   0 505   7   0   0   0  55]\n",
      " [  7   0   0   0   0   0   0   0   0   4 518   1  20  25   7]\n",
      " [ 13   2   4   1   4   2   2   7   0   0   1 533  45   8   0]\n",
      " [ 13   0   0   0   0   0   1   1   0   0  16  58 470  36   0]\n",
      " [ 45  10   3   2   2   2   6   2   0   2  26   8  32 464   9]\n",
      " [ 33  12   7   4   4   4  12  10   0  35   4   0   0   5 445]]\n",
      "                 precision    recall  f1-score   support\n",
      "\n",
      "      Dark Trap       0.33      0.39      0.36       923\n",
      "            Emo       0.50      0.55      0.52       314\n",
      "         Hiphop       0.27      0.31      0.29       582\n",
      "            Pop       0.17      0.16      0.17        92\n",
      "            Rap       0.36      0.39      0.38       371\n",
      "            RnB       0.30      0.28      0.29       408\n",
      "     Trap Metal       0.19      0.18      0.18       405\n",
      "Underground Rap       0.34      0.27      0.30      1169\n",
      "            dnb       0.96      0.94      0.95       601\n",
      "      hardstyle       0.84      0.83      0.84       609\n",
      "      psytrance       0.88      0.89      0.89       582\n",
      "      techhouse       0.85      0.86      0.85       622\n",
      "         techno       0.80      0.79      0.80       595\n",
      "         trance       0.78      0.76      0.77       613\n",
      "           trap       0.76      0.77      0.77       575\n",
      "\n",
      "       accuracy                           0.58      8461\n",
      "      macro avg       0.56      0.56      0.56      8461\n",
      "   weighted avg       0.58      0.58      0.58      8461\n",
      "\n",
      "['RnB' 'hardstyle' 'Underground Rap' ... 'Emo' 'techhouse'\n",
      " 'Underground Rap']\n"
     ]
    }
   ],
   "source": [
    "dataset = pd.read_csv(CSV_FILE_NAME, low_memory=False)\n",
    "dataset.shape\n",
    "# This should show the shape of the rows and columns\n",
    "\n",
    "dataset.head()\n",
    "\n",
    "X = dataset.drop(['Unnamed: 0', 'type', 'id', 'uri', 'track_href', 'analysis_url', 'song_name', 'title', 'genre'], axis=1)\n",
    "\n",
    "#Dropping several columns that aren't useful here\n",
    "\n",
    "y = dataset['genre']\n",
    "\n",
    "X_train, X_test, y_train, y_test = train_test_split(X,y, test_size = 0.20)\n",
    "\n",
    "classifier = DecisionTreeClassifier()\n",
    "classifier.fit(X_train, y_train)\n",
    "\n",
    "y_predict = classifier.predict(X_test)\n",
    "\n",
    "print(confusion_matrix(y_test, y_predict))\n",
    "print(classification_report(y_test, y_predict))\n",
    "print(y_predict)\n"
   ]
  },
  {
   "cell_type": "markdown",
   "id": "a2ea6320",
   "metadata": {},
   "source": [
    "# Classification Models:"
   ]
  },
  {
   "cell_type": "code",
   "execution_count": null,
   "id": "78a8bd73",
   "metadata": {},
   "outputs": [],
   "source": [
    "plt.boxplot()\n",
    "plt.hist()\n",
    "plt.plot()\n",
    "plt.show()\n",
    "## might have to make separate ones for all of them?"
   ]
  },
  {
   "cell_type": "markdown",
   "id": "10226934",
   "metadata": {},
   "source": [
    "# Extra Classification Model:"
   ]
  },
  {
   "cell_type": "code",
   "execution_count": null,
   "id": "73137af9",
   "metadata": {},
   "outputs": [],
   "source": [
    "plt.stem()\n",
    "plt.show()"
   ]
  }
 ],
 "metadata": {
  "kernelspec": {
   "display_name": "Python 3 (ipykernel)",
   "language": "python",
   "name": "python3"
  },
  "language_info": {
   "codemirror_mode": {
    "name": "ipython",
    "version": 3
   },
   "file_extension": ".py",
   "mimetype": "text/x-python",
   "name": "python",
   "nbconvert_exporter": "python",
   "pygments_lexer": "ipython3",
   "version": "3.9.5"
  }
 },
 "nbformat": 4,
 "nbformat_minor": 5
}
